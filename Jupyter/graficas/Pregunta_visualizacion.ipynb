{
 "cells": [
  {
   "cell_type": "code",
   "execution_count": 1,
   "metadata": {},
   "outputs": [],
   "source": [
    "import pandas as pd\n",
    "import seaborn as sns\n",
    "import matplotlib.pyplot as plt"
   ]
  },
  {
   "cell_type": "code",
   "execution_count": 2,
   "metadata": {},
   "outputs": [
    {
     "data": {
      "text/plain": [
       "(2297, 10)"
      ]
     },
     "execution_count": 2,
     "metadata": {},
     "output_type": "execute_result"
    }
   ],
   "source": [
    "df = pd.read_csv('../../ficheros/dataframe_estudio.csv', index_col = 0)\n",
    "df.shape"
   ]
  },
  {
   "cell_type": "markdown",
   "metadata": {},
   "source": [
    "### Pregunta 1: ¿Cuáles son las librerías de visualización que más usa un Data Analyst?"
   ]
  },
  {
   "cell_type": "markdown",
   "metadata": {},
   "source": [
    "### Limpieza"
   ]
  },
  {
   "cell_type": "code",
   "execution_count": 3,
   "metadata": {},
   "outputs": [],
   "source": [
    "def crear_filas(df,patron,columna):\n",
    "    \"\"\"\n",
    "    Esta función divide la respuesta de cada individuo separándola por comas y crea 1 fila por cada separación\n",
    "    Args: \n",
    "    df(df):dataframe sobre el que queremos aplicar los cambios\n",
    "    patron(string): es el patron por el que nuestra función nos va a hacer la separación\n",
    "    columna(string): es el nombre de la columna sobre la que queremos aplicar nuestra función\n",
    "    \"\"\"\n",
    "    \n",
    "    df[columna] = df[columna].str.split(patron, n = -1) \n",
    "    \n",
    "    return df.explode(columna)"
   ]
  },
  {
   "cell_type": "code",
   "execution_count": 4,
   "metadata": {},
   "outputs": [],
   "source": [
    "df = crear_filas(df, '/', 'visualization')"
   ]
  },
  {
   "cell_type": "code",
   "execution_count": 5,
   "metadata": {},
   "outputs": [],
   "source": [
    "df = crear_filas(df, ',', 'visualization')"
   ]
  },
  {
   "cell_type": "code",
   "execution_count": 6,
   "metadata": {},
   "outputs": [
    {
     "data": {
      "text/plain": [
       "array([' Matplotlib ', 'Seaborn ', 'Plotly ', ' Plotly Express ',\n",
       "       'Ggplot ', ' ggplot2 ', ' None', 'Shiny ', ' Other', 'Geoplotlib ',\n",
       "       'unknown', 'D3 js ', 'Altair ', 'Bokeh ', 'Leaflet ', ' Folium '],\n",
       "      dtype=object)"
      ]
     },
     "execution_count": 6,
     "metadata": {},
     "output_type": "execute_result"
    }
   ],
   "source": [
    "df['visualization'].unique()"
   ]
  },
  {
   "cell_type": "code",
   "execution_count": 7,
   "metadata": {},
   "outputs": [
    {
     "data": {
      "text/plain": [
       "(6331, 10)"
      ]
     },
     "execution_count": 7,
     "metadata": {},
     "output_type": "execute_result"
    }
   ],
   "source": [
    "df.shape"
   ]
  },
  {
   "cell_type": "code",
   "execution_count": 8,
   "metadata": {},
   "outputs": [],
   "source": [
    "def limpieza(elemento):\n",
    "    \"\"\"\n",
    "    Esta función nos permite eliminar los espacios que hay al principio y al final de los strings \n",
    "    Args: elementos\n",
    "    elemento(string): es el dato al que le queremos quitar los espacios \n",
    "    \"\"\"\n",
    "    try:\n",
    "        return elemento.strip()\n",
    "         \n",
    "    except:\n",
    "        return elemento"
   ]
  },
  {
   "cell_type": "code",
   "execution_count": 9,
   "metadata": {},
   "outputs": [
    {
     "data": {
      "text/plain": [
       "array(['Matplotlib', 'Seaborn', 'Plotly', 'Plotly Express', 'Ggplot',\n",
       "       'ggplot2', 'None', 'Shiny', 'Other', 'Geoplotlib', 'unknown',\n",
       "       'D3 js', 'Altair', 'Bokeh', 'Leaflet', 'Folium'], dtype=object)"
      ]
     },
     "execution_count": 9,
     "metadata": {},
     "output_type": "execute_result"
    }
   ],
   "source": [
    "df['visualization'] = df['visualization'].apply(limpieza)\n",
    "df['visualization'].unique()"
   ]
  },
  {
   "cell_type": "markdown",
   "metadata": {},
   "source": [
    "### Visualización"
   ]
  },
  {
   "cell_type": "code",
   "execution_count": 10,
   "metadata": {},
   "outputs": [],
   "source": [
    "df_orden = df['visualization'].value_counts().sort_values(ascending = False).head()\n",
    "df_orden_desc = pd.DataFrame(df_orden).reset_index()"
   ]
  },
  {
   "cell_type": "code",
   "execution_count": 11,
   "metadata": {},
   "outputs": [
    {
     "data": {
      "text/html": [
       "<div>\n",
       "<style scoped>\n",
       "    .dataframe tbody tr th:only-of-type {\n",
       "        vertical-align: middle;\n",
       "    }\n",
       "\n",
       "    .dataframe tbody tr th {\n",
       "        vertical-align: top;\n",
       "    }\n",
       "\n",
       "    .dataframe thead th {\n",
       "        text-align: right;\n",
       "    }\n",
       "</style>\n",
       "<table border=\"1\" class=\"dataframe\">\n",
       "  <thead>\n",
       "    <tr style=\"text-align: right;\">\n",
       "      <th></th>\n",
       "      <th>index</th>\n",
       "      <th>visualization</th>\n",
       "    </tr>\n",
       "  </thead>\n",
       "  <tbody>\n",
       "    <tr>\n",
       "      <th>0</th>\n",
       "      <td>Matplotlib</td>\n",
       "      <td>1463</td>\n",
       "    </tr>\n",
       "    <tr>\n",
       "      <th>1</th>\n",
       "      <td>Seaborn</td>\n",
       "      <td>1150</td>\n",
       "    </tr>\n",
       "    <tr>\n",
       "      <th>2</th>\n",
       "      <td>Ggplot</td>\n",
       "      <td>641</td>\n",
       "    </tr>\n",
       "    <tr>\n",
       "      <th>3</th>\n",
       "      <td>ggplot2</td>\n",
       "      <td>641</td>\n",
       "    </tr>\n",
       "    <tr>\n",
       "      <th>4</th>\n",
       "      <td>Plotly</td>\n",
       "      <td>589</td>\n",
       "    </tr>\n",
       "  </tbody>\n",
       "</table>\n",
       "</div>"
      ],
      "text/plain": [
       "        index  visualization\n",
       "0  Matplotlib           1463\n",
       "1     Seaborn           1150\n",
       "2      Ggplot            641\n",
       "3     ggplot2            641\n",
       "4      Plotly            589"
      ]
     },
     "execution_count": 11,
     "metadata": {},
     "output_type": "execute_result"
    }
   ],
   "source": [
    "df_orden_desc"
   ]
  },
  {
   "cell_type": "code",
   "execution_count": 12,
   "metadata": {},
   "outputs": [],
   "source": [
    "df_orden2 = df['visualization'].value_counts().sort_values(ascending = True).head()\n",
    "df_orden_asc = pd.DataFrame(df_orden2).reset_index()"
   ]
  },
  {
   "cell_type": "code",
   "execution_count": 13,
   "metadata": {},
   "outputs": [
    {
     "data": {
      "text/html": [
       "<div>\n",
       "<style scoped>\n",
       "    .dataframe tbody tr th:only-of-type {\n",
       "        vertical-align: middle;\n",
       "    }\n",
       "\n",
       "    .dataframe tbody tr th {\n",
       "        vertical-align: top;\n",
       "    }\n",
       "\n",
       "    .dataframe thead th {\n",
       "        text-align: right;\n",
       "    }\n",
       "</style>\n",
       "<table border=\"1\" class=\"dataframe\">\n",
       "  <thead>\n",
       "    <tr style=\"text-align: right;\">\n",
       "      <th></th>\n",
       "      <th>index</th>\n",
       "      <th>visualization</th>\n",
       "    </tr>\n",
       "  </thead>\n",
       "  <tbody>\n",
       "    <tr>\n",
       "      <th>0</th>\n",
       "      <td>Altair</td>\n",
       "      <td>39</td>\n",
       "    </tr>\n",
       "    <tr>\n",
       "      <th>1</th>\n",
       "      <td>Leaflet</td>\n",
       "      <td>78</td>\n",
       "    </tr>\n",
       "    <tr>\n",
       "      <th>2</th>\n",
       "      <td>Folium</td>\n",
       "      <td>78</td>\n",
       "    </tr>\n",
       "    <tr>\n",
       "      <th>3</th>\n",
       "      <td>D3 js</td>\n",
       "      <td>81</td>\n",
       "    </tr>\n",
       "    <tr>\n",
       "      <th>4</th>\n",
       "      <td>Bokeh</td>\n",
       "      <td>103</td>\n",
       "    </tr>\n",
       "  </tbody>\n",
       "</table>\n",
       "</div>"
      ],
      "text/plain": [
       "     index  visualization\n",
       "0   Altair             39\n",
       "1  Leaflet             78\n",
       "2   Folium             78\n",
       "3    D3 js             81\n",
       "4    Bokeh            103"
      ]
     },
     "execution_count": 13,
     "metadata": {},
     "output_type": "execute_result"
    }
   ],
   "source": [
    "df_orden_asc"
   ]
  },
  {
   "cell_type": "code",
   "execution_count": 15,
   "metadata": {},
   "outputs": [
    {
     "data": {
      "image/png": "[encoded data removed]",
      "text/plain": [
       "<Figure size 1000x500 with 1 Axes>"
      ]
     },
     "metadata": {},
     "output_type": "display_data"
    }
   ],
   "source": [
    "plt.figure(figsize =(10,5))\n",
    "sns.barplot(y = \"index\", x = \"visualization\", data = df_orden_desc, palette=\"crest\")\n",
    "plt.title(\"Las 5 librerías de visualización más utilizadas\", color = \"pink\", fontweight='bold', fontsize = 16);\n",
    "plt.xlabel(\"visualization\", color = \"#3a6670\");\n",
    "plt.ylabel(\"count\", color = \"#3a6670\");\n",
    "#fig.tight_layout()"
   ]
  },
  {
   "cell_type": "markdown",
   "metadata": {},
   "source": [
    "### Conclusiones"
   ]
  },
  {
   "cell_type": "markdown",
   "metadata": {},
   "source": [
    "Los datos muestran que las librerías de visualización más utilizadas son 'Matplotlib', 'Seaborn', 'Ggplot', 'ggplot2' y 'plotly'. Las más utilizadas son matplotlib y seaborn ya que:\n",
    "1. Matplotlib ofrece una gran flexibilidad a la hora de personalizar las gráficas y además su rendimiento es muy alto. \n",
    "\n",
    "2. A su vez, ya que su sintaxis es muy reducida y sencilla a la hora de utilizarla\n",
    "\n",
    "Además ambas librerías están muy bien integradas con Pandas y Numpy\n",
    "\n"
   ]
  },
  {
   "cell_type": "markdown",
   "metadata": {},
   "source": [
    "Por tanto, Adalab en este momento está alineada con la actualidad y utiliza en sus cursos las librerías de visualización que más utilizan los analistas de datos en el sector laboral."
   ]
  }
 ],
 "metadata": {
  "kernelspec": {
   "display_name": "base",
   "language": "python",
   "name": "python3"
  },
  "language_info": {
   "codemirror_mode": {
    "name": "ipython",
    "version": 3
   },
   "file_extension": ".py",
   "mimetype": "text/x-python",
   "name": "python",
   "nbconvert_exporter": "python",
   "pygments_lexer": "ipython3",
   "version": "3.10.9"
  },
  "orig_nbformat": 4
 },
 "nbformat": 4,
 "nbformat_minor": 2
}
