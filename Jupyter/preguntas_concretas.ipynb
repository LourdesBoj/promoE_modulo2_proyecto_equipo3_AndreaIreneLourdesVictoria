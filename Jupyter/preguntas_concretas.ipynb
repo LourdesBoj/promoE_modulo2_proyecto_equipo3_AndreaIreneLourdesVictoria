{
 "cells": [
  {
   "cell_type": "markdown",
   "metadata": {},
   "source": [
    "Pregunta 1: ¿ Existe brecha de género en el sector de Data?\n",
    " ¿Hay más mujeres u hombres en el sector Dana Analyst?"
   ]
  },
  {
   "cell_type": "markdown",
   "metadata": {},
   "source": [
    "Pregunta 2: ¿Cuál es la edad media de las trabajadores?\n",
    "¿Cuál es la edad de las trabajadoras? (Pq adalab solo enseña a mujeres) \n",
    "\n",
    "Ver si la brecha de género está relacionada con la edad de las trabajdoras (p ej. igual la brecha es mayor a mayor edad)\n",
    "\n"
   ]
  },
  {
   "cell_type": "markdown",
   "metadata": {},
   "source": [
    "Pregunta 3: ¿Está adalab usando el lenjuage de programación que más se usa en la actualidad para Data?\n",
    "¿Qué lenguajes de programación se usan?"
   ]
  },
  {
   "cell_type": "markdown",
   "metadata": {},
   "source": [
    "Pregunta 4: ¿Está adalab usando las librerías más usadas en la actualidad?\n",
    "igual que la anterior pero con las librerías"
   ]
  },
  {
   "cell_type": "markdown",
   "metadata": {},
   "source": [
    "Pregunta 5: ¿cómo va cambiando la experiencia conforme a la experiencia?\n",
    "para saber tras finalizar el curso el salario aprox que se esperaría"
   ]
  },
  {
   "cell_type": "markdown",
   "metadata": {},
   "source": [
    "Pregunta 6: ¿las mujeres y hombres cobran por igual en cuanto a la experiencia? \n",
    "comparacion entre el género y el salario dependiendo de la experiencia"
   ]
  },
  {
   "cell_type": "markdown",
   "metadata": {},
   "source": [
    "Pregunta 7: ¿qué lenguaje y librerías creen que usarán en el futuro? "
   ]
  },
  {
   "cell_type": "markdown",
   "metadata": {},
   "source": []
  },
  {
   "cell_type": "markdown",
   "metadata": {},
   "source": []
  },
  {
   "cell_type": "markdown",
   "metadata": {},
   "source": []
  },
  {
   "cell_type": "markdown",
   "metadata": {},
   "source": []
  }
 ],
 "metadata": {
  "language_info": {
   "name": "python"
  },
  "orig_nbformat": 4
 },
 "nbformat": 4,
 "nbformat_minor": 2
}
