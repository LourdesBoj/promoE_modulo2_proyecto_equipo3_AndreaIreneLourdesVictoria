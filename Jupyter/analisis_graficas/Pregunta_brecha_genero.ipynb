{
 "cells": [
  {
   "cell_type": "code",
   "execution_count": 1,
   "metadata": {},
   "outputs": [],
   "source": [
    "import pandas as pd\n",
    "import seaborn as sns\n",
    "import matplotlib.pyplot as plt"
   ]
  },
  {
   "cell_type": "code",
   "execution_count": 2,
   "metadata": {},
   "outputs": [
    {
     "data": {
      "text/plain": [
       "(2297, 10)"
      ]
     },
     "execution_count": 2,
     "metadata": {},
     "output_type": "execute_result"
    }
   ],
   "source": [
    "df = pd.read_csv('../../ficheros/dataframe_estudio.csv', index_col = 0)\n",
    "df.shape"
   ]
  },
  {
   "cell_type": "code",
   "execution_count": 3,
   "metadata": {},
   "outputs": [
    {
     "data": {
      "text/html": [
       "<div>\n",
       "<style scoped>\n",
       "    .dataframe tbody tr th:only-of-type {\n",
       "        vertical-align: middle;\n",
       "    }\n",
       "\n",
       "    .dataframe tbody tr th {\n",
       "        vertical-align: top;\n",
       "    }\n",
       "\n",
       "    .dataframe thead th {\n",
       "        text-align: right;\n",
       "    }\n",
       "</style>\n",
       "<table border=\"1\" class=\"dataframe\">\n",
       "  <thead>\n",
       "    <tr style=\"text-align: right;\">\n",
       "      <th></th>\n",
       "      <th>country</th>\n",
       "      <th>current_role</th>\n",
       "      <th>yearly_compensation</th>\n",
       "      <th>programming_languages</th>\n",
       "      <th>ides</th>\n",
       "      <th>visualization</th>\n",
       "      <th>activities</th>\n",
       "      <th>gender</th>\n",
       "      <th>primary_tool</th>\n",
       "      <th>ages</th>\n",
       "    </tr>\n",
       "  </thead>\n",
       "  <tbody>\n",
       "    <tr>\n",
       "      <th>16</th>\n",
       "      <td>Belgium</td>\n",
       "      <td>Data Analyst</td>\n",
       "      <td>2,000-2,999</td>\n",
       "      <td>Python, SQL</td>\n",
       "      <td>Jupyter (JupyterLab, Jupyter Notebooks, etc) ,...</td>\n",
       "      <td>Matplotlib ,Seaborn ,Plotly / Plotly Express</td>\n",
       "      <td>Analyze and understand data to influence produ...</td>\n",
       "      <td>Man</td>\n",
       "      <td>Local development environments (RStudio, Jupyt...</td>\n",
       "      <td>middle</td>\n",
       "    </tr>\n",
       "    <tr>\n",
       "      <th>32</th>\n",
       "      <td>United States of America</td>\n",
       "      <td>Data Analyst</td>\n",
       "      <td>unknown</td>\n",
       "      <td>R</td>\n",
       "      <td>RStudio</td>\n",
       "      <td>Ggplot / ggplot2</td>\n",
       "      <td>unknown</td>\n",
       "      <td>Nonbinary</td>\n",
       "      <td>unknown</td>\n",
       "      <td>young</td>\n",
       "    </tr>\n",
       "  </tbody>\n",
       "</table>\n",
       "</div>"
      ],
      "text/plain": [
       "                     country  current_role yearly_compensation  \\\n",
       "16                   Belgium  Data Analyst         2,000-2,999   \n",
       "32  United States of America  Data Analyst             unknown   \n",
       "\n",
       "   programming_languages                                               ides  \\\n",
       "16           Python, SQL  Jupyter (JupyterLab, Jupyter Notebooks, etc) ,...   \n",
       "32                     R                                           RStudio    \n",
       "\n",
       "                                     visualization  \\\n",
       "16   Matplotlib ,Seaborn ,Plotly / Plotly Express    \n",
       "32                               Ggplot / ggplot2    \n",
       "\n",
       "                                           activities     gender  \\\n",
       "16  Analyze and understand data to influence produ...        Man   \n",
       "32                                            unknown  Nonbinary   \n",
       "\n",
       "                                         primary_tool    ages  \n",
       "16  Local development environments (RStudio, Jupyt...  middle  \n",
       "32                                            unknown   young  "
      ]
     },
     "execution_count": 3,
     "metadata": {},
     "output_type": "execute_result"
    }
   ],
   "source": [
    "df.head(2)"
   ]
  },
  {
   "cell_type": "markdown",
   "metadata": {},
   "source": [
    "# ¿Existe brecha de género en el sector Data?"
   ]
  },
  {
   "cell_type": "markdown",
   "metadata": {},
   "source": [
    "## Limpieza "
   ]
  },
  {
   "cell_type": "code",
   "execution_count": 4,
   "metadata": {},
   "outputs": [],
   "source": [
    "df_brecha = df[(df['gender'] == 'Man') | (df['gender'] == 'Woman')]"
   ]
  },
  {
   "cell_type": "code",
   "execution_count": 5,
   "metadata": {},
   "outputs": [],
   "source": [
    "ordenado = df_brecha.sort_values(by='gender', ascending=False)"
   ]
  },
  {
   "cell_type": "code",
   "execution_count": 9,
   "metadata": {},
   "outputs": [
    {
     "data": {
      "text/html": [
       "<div>\n",
       "<style scoped>\n",
       "    .dataframe tbody tr th:only-of-type {\n",
       "        vertical-align: middle;\n",
       "    }\n",
       "\n",
       "    .dataframe tbody tr th {\n",
       "        vertical-align: top;\n",
       "    }\n",
       "\n",
       "    .dataframe thead th {\n",
       "        text-align: right;\n",
       "    }\n",
       "</style>\n",
       "<table border=\"1\" class=\"dataframe\">\n",
       "  <thead>\n",
       "    <tr style=\"text-align: right;\">\n",
       "      <th></th>\n",
       "      <th>country</th>\n",
       "      <th>current_role</th>\n",
       "      <th>yearly_compensation</th>\n",
       "      <th>programming_languages</th>\n",
       "      <th>ides</th>\n",
       "      <th>visualization</th>\n",
       "      <th>activities</th>\n",
       "      <th>gender</th>\n",
       "      <th>primary_tool</th>\n",
       "      <th>ages</th>\n",
       "    </tr>\n",
       "  </thead>\n",
       "  <tbody>\n",
       "    <tr>\n",
       "      <th>4729</th>\n",
       "      <td>India</td>\n",
       "      <td>Data Analyst</td>\n",
       "      <td>7,500-9,999</td>\n",
       "      <td>Python</td>\n",
       "      <td>Jupyter Notebook</td>\n",
       "      <td>Matplotlib ,Seaborn ,Plotly / Plotly Express</td>\n",
       "      <td>Analyze and understand data to influence produ...</td>\n",
       "      <td>Woman</td>\n",
       "      <td>unknown</td>\n",
       "      <td>middle</td>\n",
       "    </tr>\n",
       "    <tr>\n",
       "      <th>12117</th>\n",
       "      <td>India</td>\n",
       "      <td>Data Analyst</td>\n",
       "      <td>15,000-19,999</td>\n",
       "      <td>unknown</td>\n",
       "      <td>unknown</td>\n",
       "      <td>unknown</td>\n",
       "      <td>Analyze and understand data to influence produ...</td>\n",
       "      <td>Woman</td>\n",
       "      <td>unknown</td>\n",
       "      <td>middle</td>\n",
       "    </tr>\n",
       "  </tbody>\n",
       "</table>\n",
       "</div>"
      ],
      "text/plain": [
       "      country  current_role yearly_compensation programming_languages  \\\n",
       "4729    India  Data Analyst         7,500-9,999                Python   \n",
       "12117   India  Data Analyst       15,000-19,999               unknown   \n",
       "\n",
       "                   ides                                   visualization  \\\n",
       "4729   Jupyter Notebook   Matplotlib ,Seaborn ,Plotly / Plotly Express    \n",
       "12117           unknown                                         unknown   \n",
       "\n",
       "                                              activities gender primary_tool  \\\n",
       "4729   Analyze and understand data to influence produ...  Woman      unknown   \n",
       "12117  Analyze and understand data to influence produ...  Woman      unknown   \n",
       "\n",
       "         ages  \n",
       "4729   middle  \n",
       "12117  middle  "
      ]
     },
     "execution_count": 9,
     "metadata": {},
     "output_type": "execute_result"
    }
   ],
   "source": [
    "ordenado.head(2)"
   ]
  },
  {
   "cell_type": "markdown",
   "metadata": {},
   "source": [
    "## Visualización"
   ]
  },
  {
   "cell_type": "code",
   "execution_count": 10,
   "metadata": {},
   "outputs": [
    {
     "data": {
      "image/png": "[encoded data removed]",
      "text/plain": [
       "<Figure size 800x500 with 1 Axes>"
      ]
     },
     "metadata": {},
     "output_type": "display_data"
    }
   ],
   "source": [
    "plt.figure(figsize =(8,5))\n",
    "sns.countplot(x = \"ages\", data = ordenado, hue = 'gender', order = ['young', 'middle', 'old'], palette=\"pink\");\n",
    "plt.title(\"Ages by gender\", color = \"tan\", fontweight=\"bold\", fontsize = 16);\n",
    "plt.xlabel(\"age\", color = \"tan\");\n",
    "plt.ylabel(\"count\", color = \"tan\");\n"
   ]
  },
  {
   "cell_type": "markdown",
   "metadata": {},
   "source": [
    "## Conclusiones"
   ]
  },
  {
   "cell_type": "markdown",
   "metadata": {},
   "source": [
    "Los datos muestran que el número tanto hombres como mujeres que trabajan en este sector es menor conforme avanzan en edad. La causa es que estamos hablando de un sector muy joven cuyo auge comenzó hace unos pocos años. Es por eso que este sector es ahora mucho más conocido que antes y es un puesto cada vez más demandado también por las empresas debido a la utilidad de un Data Analyst para analizar los datos y usarlos para la posterior toma de decisiones de una emoresa.\n",
    "\n",
    "Esta gráfica está dividida en 3 categorías: \n",
    "\n",
    "- Young (edades comprendidas entre los 18 y los 29 años)\n",
    "\n",
    "- Middle (edades comprendidas entre los 30 - 54 años)\n",
    "\n",
    "- Old (edades comprendidas a partir de 50 años)\n",
    "\n",
    "Sin embargo, observamos que en todos los rangos de edad existe una brecha de género bastante acentuada. Es por ello que Adalab está en el camino correcto a la hora de impartir sus cursos solo para mujeres, ya que hay muchas mujeres quieren empezar su camino en el sector Data y eliminar la brecha de género que actualmente existe. "
   ]
  }
 ],
 "metadata": {
  "kernelspec": {
   "display_name": "base",
   "language": "python",
   "name": "python3"
  },
  "language_info": {
   "codemirror_mode": {
    "name": "ipython",
    "version": 3
   },
   "file_extension": ".py",
   "mimetype": "text/x-python",
   "name": "python",
   "nbconvert_exporter": "python",
   "pygments_lexer": "ipython3",
   "version": "3.10.9"
  },
  "orig_nbformat": 4
 },
 "nbformat": 4,
 "nbformat_minor": 2
}
