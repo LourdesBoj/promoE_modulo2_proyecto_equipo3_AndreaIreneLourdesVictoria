{
 "cells": [
  {
   "cell_type": "code",
   "execution_count": 14,
   "metadata": {},
   "outputs": [],
   "source": [
    "import pandas as pd\n",
    "import seaborn as sns\n",
    "import matplotlib.pyplot as plt"
   ]
  },
  {
   "cell_type": "code",
   "execution_count": 15,
   "metadata": {},
   "outputs": [
    {
     "data": {
      "text/plain": [
       "(2297, 10)"
      ]
     },
     "execution_count": 15,
     "metadata": {},
     "output_type": "execute_result"
    }
   ],
   "source": [
    "df = pd.read_csv('../../ficheros/dataframe_estudio.csv', index_col = 0)\n",
    "df.shape"
   ]
  },
  {
   "cell_type": "code",
   "execution_count": 16,
   "metadata": {},
   "outputs": [
    {
     "data": {
      "text/html": [
       "<div>\n",
       "<style scoped>\n",
       "    .dataframe tbody tr th:only-of-type {\n",
       "        vertical-align: middle;\n",
       "    }\n",
       "\n",
       "    .dataframe tbody tr th {\n",
       "        vertical-align: top;\n",
       "    }\n",
       "\n",
       "    .dataframe thead th {\n",
       "        text-align: right;\n",
       "    }\n",
       "</style>\n",
       "<table border=\"1\" class=\"dataframe\">\n",
       "  <thead>\n",
       "    <tr style=\"text-align: right;\">\n",
       "      <th></th>\n",
       "      <th>country</th>\n",
       "      <th>current_role</th>\n",
       "      <th>yearly_compensation</th>\n",
       "      <th>programming_languages</th>\n",
       "      <th>ides</th>\n",
       "      <th>visualization</th>\n",
       "      <th>activities</th>\n",
       "      <th>gender</th>\n",
       "      <th>primary_tool</th>\n",
       "      <th>ages</th>\n",
       "    </tr>\n",
       "  </thead>\n",
       "  <tbody>\n",
       "    <tr>\n",
       "      <th>16</th>\n",
       "      <td>Belgium</td>\n",
       "      <td>Data Analyst</td>\n",
       "      <td>2,000-2,999</td>\n",
       "      <td>Python, SQL</td>\n",
       "      <td>Jupyter (JupyterLab, Jupyter Notebooks, etc) ,...</td>\n",
       "      <td>Matplotlib ,Seaborn ,Plotly / Plotly Express</td>\n",
       "      <td>Analyze and understand data to influence produ...</td>\n",
       "      <td>Man</td>\n",
       "      <td>Local development environments (RStudio, Jupyt...</td>\n",
       "      <td>middle</td>\n",
       "    </tr>\n",
       "    <tr>\n",
       "      <th>32</th>\n",
       "      <td>United States of America</td>\n",
       "      <td>Data Analyst</td>\n",
       "      <td>unknown</td>\n",
       "      <td>R</td>\n",
       "      <td>RStudio</td>\n",
       "      <td>Ggplot / ggplot2</td>\n",
       "      <td>unknown</td>\n",
       "      <td>Nonbinary</td>\n",
       "      <td>unknown</td>\n",
       "      <td>younger</td>\n",
       "    </tr>\n",
       "  </tbody>\n",
       "</table>\n",
       "</div>"
      ],
      "text/plain": [
       "                     country  current_role yearly_compensation  \\\n",
       "16                   Belgium  Data Analyst         2,000-2,999   \n",
       "32  United States of America  Data Analyst             unknown   \n",
       "\n",
       "   programming_languages                                               ides  \\\n",
       "16           Python, SQL  Jupyter (JupyterLab, Jupyter Notebooks, etc) ,...   \n",
       "32                     R                                           RStudio    \n",
       "\n",
       "                                     visualization  \\\n",
       "16   Matplotlib ,Seaborn ,Plotly / Plotly Express    \n",
       "32                               Ggplot / ggplot2    \n",
       "\n",
       "                                           activities     gender  \\\n",
       "16  Analyze and understand data to influence produ...        Man   \n",
       "32                                            unknown  Nonbinary   \n",
       "\n",
       "                                         primary_tool     ages  \n",
       "16  Local development environments (RStudio, Jupyt...   middle  \n",
       "32                                            unknown  younger  "
      ]
     },
     "execution_count": 16,
     "metadata": {},
     "output_type": "execute_result"
    }
   ],
   "source": [
    "df.head(2)"
   ]
  },
  {
   "cell_type": "markdown",
   "metadata": {},
   "source": [
    "# ¿Está Adalab enseñando los lenguajes de programación adecuados?"
   ]
  },
  {
   "cell_type": "markdown",
   "metadata": {},
   "source": [
    "## Limpieza"
   ]
  },
  {
   "cell_type": "code",
   "execution_count": 17,
   "metadata": {},
   "outputs": [
    {
     "data": {
      "text/plain": [
       "array(['Python, SQL', ' R', 'Python',\n",
       "       'Python, SQL, C, C++, Java, Javascript, MATLAB', ' R, SQL',\n",
       "       ' SQL, C++', ' R, SQL, C++', ' SQL', 'Python, SQL, C, Javascript',\n",
       "       'Python, SQL, C++, Other', 'Python, R, SQL', ' C++',\n",
       "       'Python, R, Other', 'Python, SQL, Other',\n",
       "       'Python, SQL, Java, Javascript', 'Python, SQL, C++',\n",
       "       'Python, SQL, Javascript, Other', 'Python, R, SQL, MATLAB',\n",
       "       'unknown', 'Python, SQL, MATLAB', 'Python, Javascript',\n",
       "       'Python, R', 'Python, SQL, Javascript, Bash', ' C, C++, MATLAB',\n",
       "       'Python, Java', 'Python, R, SQL, Other',\n",
       "       'Python, C++, Java, MATLAB', 'Python, R, SQL, Javascript', ' None',\n",
       "       'Python, C', 'Python, SQL, C, Java', 'Python, R, SQL, Java',\n",
       "       'Python, SQL, C', 'Python, C, C++, Java', ' R, Other',\n",
       "       'Python, SQL, MATLAB, Other', 'Python, R, C, C++', ' SQL, Other',\n",
       "       'Python, SQL, Java', 'Python, R, SQL, C', 'Python, C, MATLAB',\n",
       "       'Python, R, SQL, C, C++, Java, Javascript', 'Python, SQL, Bash',\n",
       "       'Python, SQL, C++, Java, MATLAB', 'Python, C++, MATLAB',\n",
       "       'Python, SQL, C, Java, Javascript', 'Python, Other',\n",
       "       'Python, SQL, Bash, Other', 'Python, C, Java',\n",
       "       'Python, SQL, C, C++', 'Python, R, SQL, C++, Java', 'Python, C++',\n",
       "       'Python, Julia',\n",
       "       'Python, R, SQL, C, C++, Java, Javascript, Bash, MATLAB',\n",
       "       'Python, R, SQL, Bash', ' Other', ' C', 'Python, R, Julia, MATLAB',\n",
       "       'Python, SQL, Javascript', 'Python, R, SQL, Julia, Bash',\n",
       "       'Python, MATLAB', 'Python, R, C++, MATLAB', ' SQL, Javascript',\n",
       "       ' Javascript', 'Python, R, SQL, C, C++', 'Python, R, Javascript',\n",
       "       ' R, SQL, C, Javascript, Bash', ' Swift', 'Python, R, C',\n",
       "       'Python, R, MATLAB', 'Python, SQL, C, C++, Java, Javascript',\n",
       "       'Python, R, SQL, C, Java', 'Python, SQL, C++, Javascript, MATLAB',\n",
       "       'Python, SQL, C, C++, Javascript, MATLAB', 'Python, R, Julia',\n",
       "       'Python, R, SQL, C, C++, MATLAB', 'Python, C++, Java',\n",
       "       'Python, C, C++, Javascript, MATLAB',\n",
       "       'Python, SQL, C, C++, Java, Javascript, Bash', 'Python, R, Java',\n",
       "       'Python, Java, Bash, Other', 'Python, SQL, C, C++, Java, Other',\n",
       "       'Python, SQL, C, Javascript, Bash', 'Python, C, C++',\n",
       "       'Python, C, C++, Java, MATLAB', ' R, SQL, Other',\n",
       "       'Python, SQL, Java, Javascript, Other',\n",
       "       'Python, SQL, C, C++, Java, Javascript, Bash, MATLAB, Other',\n",
       "       ' R, SQL, Javascript', 'Python, Java, MATLAB', ' SQL, C, Java',\n",
       "       'Python, R, SQL, C, MATLAB',\n",
       "       'Python, SQL, Javascript, Bash, Other', ' C++, Java',\n",
       "       'Python, Javascript, MATLAB', ' R, SQL, MATLAB',\n",
       "       'Python, R, SQL, Java, Javascript', ' SQL, C++, MATLAB',\n",
       "       'Python, SQL, C++, Java',\n",
       "       'Python, R, SQL, C++, Javascript, MATLAB',\n",
       "       'Python, R, SQL, Java, Javascript, Swift, Bash',\n",
       "       'Python, R, C++, MATLAB, Other', 'Python, R, SQL, C++, Java, Bash',\n",
       "       'Python, R, C, C++, Javascript', 'Python, SQL, Java, Other',\n",
       "       'Python, C, C++, MATLAB', 'Python, SQL, C, C++, Java',\n",
       "       ' R, C, Other', 'Python, SQL, C++, Javascript',\n",
       "       'Python, R, SQL, Java, Javascript, Bash', 'Python, R, SQL, Swift',\n",
       "       'Python, R, C++', 'Python, R, SQL, MATLAB, Other',\n",
       "       'Python, C, C++, Java, Other', 'Python, R, Javascript, Bash',\n",
       "       ' MATLAB', 'Python, R, SQL, Julia', ' C, C++',\n",
       "       'Python, R, SQL, C, C++, Java, MATLAB',\n",
       "       'Python, R, Javascript, MATLAB',\n",
       "       'Python, C++, Java, Javascript, Other',\n",
       "       'Python, R, SQL, C++, Javascript', 'Python, R, Bash',\n",
       "       'Python, SQL, C, C++, Other',\n",
       "       'Python, R, SQL, C, Java, Javascript, Other',\n",
       "       'Python, R, SQL, C++, Java, Javascript, MATLAB',\n",
       "       'Python, R, SQL, Javascript, MATLAB',\n",
       "       ' R, C, C++, Java, Javascript, MATLAB',\n",
       "       'Python, SQL, Java, Javascript, Bash',\n",
       "       ' SQL, C, C++, Java, Javascript', 'Python, SQL, Java, MATLAB',\n",
       "       ' R, SQL, Bash', 'Python, R, SQL, C, C++, Java, Swift, MATLAB',\n",
       "       'Python, SQL, Java, Javascript, MATLAB', ' SQL, MATLAB',\n",
       "       ' SQL, Javascript, Other', ' SQL, Java, Javascript, Other',\n",
       "       'Python, SQL, C++, Java, Javascript, Other', ' R, MATLAB, Other',\n",
       "       ' C, C++, Java, Javascript', 'Python, SQL, Bash, MATLAB',\n",
       "       ' R, C, C++, Java, Javascript', 'Python, R, SQL, Javascript, Bash',\n",
       "       'Python, R, SQL, C, Javascript', ' SQL, Java',\n",
       "       'Python, R, SQL, C++, MATLAB', ' SQL, Bash',\n",
       "       'Python, SQL, C, Java, Javascript, Bash', ' Java, Javascript',\n",
       "       ' R, C', ' R, MATLAB', 'Python, SQL, C++, Java, Swift',\n",
       "       'Python, R, Javascript, Other',\n",
       "       'Python, SQL, C, C++, Java, MATLAB',\n",
       "       'Python, SQL, Javascript, MATLAB', 'Python, R, SQL, C++',\n",
       "       'Python, Javascript, Other',\n",
       "       'Python, R, SQL, Javascript, Bash, Other',\n",
       "       'Python, SQL, C++, Java, Javascript, MATLAB',\n",
       "       'Python, R, SQL, Javascript, Other', ' R, SQL, Javascript, Other',\n",
       "       'Python, SQL, C++, Julia', 'Python, SQL, Java, Bash',\n",
       "       'Python, R, SQL, C, C++, Java, Javascript, Julia, Swift, Bash, MATLAB, Other',\n",
       "       ' SQL, C, Javascript, Bash', ' R, Java, Swift',\n",
       "       'Python, R, SQL, C, Java, Javascript', ' SQL, Javascript, MATLAB',\n",
       "       ' C, Bash', 'Python, R, SQL, Java, Other', 'Python, Bash',\n",
       "       'Python, Java, Javascript', 'Python, R, SQL, Bash, Other',\n",
       "       'Python, R, SQL, C, C++, Java, Javascript, Julia, Swift, Bash, MATLAB',\n",
       "       'Python, SQL, Javascript, Bash, MATLAB, Other',\n",
       "       'Python, C, Java, Javascript', ' C++, Other', ' C++, MATLAB',\n",
       "       'Python, SQL, C, C++, Java, Javascript, Bash, MATLAB',\n",
       "       'Python, R, SQL, C++, Other', 'Python, SQL, C++, Java, Javascript',\n",
       "       ' R, SQL, C', 'Python, R, SQL, C, C++, Javascript, Bash',\n",
       "       'Python, R, C, C++, Java, MATLAB',\n",
       "       'Python, SQL, C, C++, Java, Javascript, Swift, Bash',\n",
       "       'Python, SQL, C++, MATLAB', ' Java, MATLAB', 'Python, SQL, Julia',\n",
       "       ' SQL, Java, Javascript', 'Python, R, SQL, C, C++, Java, Bash',\n",
       "       'Python, SQL, C, Other', ' SQL, C++, Javascript', ' R, C++',\n",
       "       'Python, Java, Javascript, MATLAB',\n",
       "       'Python, SQL, C, C++, MATLAB, Other',\n",
       "       'Python, SQL, C, C++, MATLAB',\n",
       "       'Python, R, Java, Javascript, MATLAB',\n",
       "       'Python, C++, Java, MATLAB, Other',\n",
       "       'Python, R, SQL, C, C++, Javascript',\n",
       "       'Python, R, SQL, C++, Java, Javascript, MATLAB, Other',\n",
       "       'Python, C++, Javascript', 'Python, Java, Other',\n",
       "       'Python, SQL, C, C++, Java, Javascript, Swift, MATLAB',\n",
       "       'Python, R, SQL, Java, MATLAB', 'Python, SQL, C, MATLAB', ' Java',\n",
       "       ' R, Bash, MATLAB',\n",
       "       'Python, SQL, C++, Javascript, Swift, Bash, MATLAB',\n",
       "       'Python, C, C++, Javascript',\n",
       "       'Python, R, SQL, C++, Java, Javascript', ' C, C++, Java',\n",
       "       'Python, Javascript, Bash', ' R, SQL, C++, Javascript, MATLAB',\n",
       "       'Python, R, SQL, Java, Javascript, Other'], dtype=object)"
      ]
     },
     "execution_count": 17,
     "metadata": {},
     "output_type": "execute_result"
    }
   ],
   "source": [
    "df['programming_languages'].unique()"
   ]
  },
  {
   "cell_type": "code",
   "execution_count": 18,
   "metadata": {},
   "outputs": [],
   "source": [
    "def crear_filas(df,patron,columna):\n",
    "    \"\"\"\n",
    "    Esta función divide la respuesta de cada individuo separándola por comas y crea 1 fila por cada separación\n",
    "    Args: \n",
    "    df(df):dataframe sobre el que queremos aplicar los cambios\n",
    "    patron(string): es el patron por el que nuestra función nos va a hacer la separación\n",
    "    columna(string): es el nombre de la columna sobre la que queremos aplicar nuestra función\n",
    "    \"\"\"\n",
    "    \n",
    "    df[columna] = df[columna].str.split(patron, n = -1) \n",
    "    \n",
    "    return df.explode(columna)"
   ]
  },
  {
   "cell_type": "code",
   "execution_count": 19,
   "metadata": {},
   "outputs": [],
   "source": [
    "df = crear_filas(df, ',', 'programming_languages')"
   ]
  },
  {
   "cell_type": "code",
   "execution_count": 20,
   "metadata": {},
   "outputs": [
    {
     "data": {
      "text/plain": [
       "array(['Python', ' SQL', ' R', ' C', ' C++', ' Java', ' Javascript',\n",
       "       ' MATLAB', ' Other', 'unknown', ' Bash', ' None', ' Julia',\n",
       "       ' Swift'], dtype=object)"
      ]
     },
     "execution_count": 20,
     "metadata": {},
     "output_type": "execute_result"
    }
   ],
   "source": [
    "df['programming_languages'].unique()"
   ]
  },
  {
   "cell_type": "code",
   "execution_count": 21,
   "metadata": {},
   "outputs": [],
   "source": [
    "def limpieza(elemento):\n",
    "    \"\"\"\n",
    "    Esta función nos permite eliminar los espacios que hay al principio y al final de los strings \n",
    "    Args: elementos\n",
    "    elemento(string): es el dato al que le queremos quitar los espacios \n",
    "    \"\"\"\n",
    "    try:\n",
    "        return elemento.strip()\n",
    "         \n",
    "    except:\n",
    "        return elemento"
   ]
  },
  {
   "cell_type": "code",
   "execution_count": 22,
   "metadata": {},
   "outputs": [
    {
     "data": {
      "text/plain": [
       "array(['Python', 'SQL', 'R', 'C', 'C++', 'Java', 'Javascript', 'MATLAB',\n",
       "       'Other', 'unknown', 'Bash', 'None', 'Julia', 'Swift'], dtype=object)"
      ]
     },
     "execution_count": 22,
     "metadata": {},
     "output_type": "execute_result"
    }
   ],
   "source": [
    "df['programming_languages'] = df['programming_languages'].apply(limpieza)\n",
    "df['programming_languages'].unique()"
   ]
  },
  {
   "cell_type": "markdown",
   "metadata": {},
   "source": [
    "## Visualización"
   ]
  },
  {
   "cell_type": "code",
   "execution_count": 23,
   "metadata": {},
   "outputs": [],
   "source": [
    "ordenado = df['programming_languages'].value_counts().sort_values(ascending = False).head()\n",
    "ordenado_desc = pd.DataFrame(ordenado).reset_index()"
   ]
  },
  {
   "cell_type": "code",
   "execution_count": 24,
   "metadata": {},
   "outputs": [
    {
     "data": {
      "text/html": [
       "<div>\n",
       "<style scoped>\n",
       "    .dataframe tbody tr th:only-of-type {\n",
       "        vertical-align: middle;\n",
       "    }\n",
       "\n",
       "    .dataframe tbody tr th {\n",
       "        vertical-align: top;\n",
       "    }\n",
       "\n",
       "    .dataframe thead th {\n",
       "        text-align: right;\n",
       "    }\n",
       "</style>\n",
       "<table border=\"1\" class=\"dataframe\">\n",
       "  <thead>\n",
       "    <tr style=\"text-align: right;\">\n",
       "      <th></th>\n",
       "      <th>index</th>\n",
       "      <th>programming_languages</th>\n",
       "    </tr>\n",
       "  </thead>\n",
       "  <tbody>\n",
       "    <tr>\n",
       "      <th>0</th>\n",
       "      <td>Python</td>\n",
       "      <td>1803</td>\n",
       "    </tr>\n",
       "    <tr>\n",
       "      <th>1</th>\n",
       "      <td>SQL</td>\n",
       "      <td>1398</td>\n",
       "    </tr>\n",
       "    <tr>\n",
       "      <th>2</th>\n",
       "      <td>R</td>\n",
       "      <td>715</td>\n",
       "    </tr>\n",
       "    <tr>\n",
       "      <th>3</th>\n",
       "      <td>Javascript</td>\n",
       "      <td>229</td>\n",
       "    </tr>\n",
       "    <tr>\n",
       "      <th>4</th>\n",
       "      <td>Java</td>\n",
       "      <td>214</td>\n",
       "    </tr>\n",
       "  </tbody>\n",
       "</table>\n",
       "</div>"
      ],
      "text/plain": [
       "        index  programming_languages\n",
       "0      Python                   1803\n",
       "1         SQL                   1398\n",
       "2           R                    715\n",
       "3  Javascript                    229\n",
       "4        Java                    214"
      ]
     },
     "execution_count": 24,
     "metadata": {},
     "output_type": "execute_result"
    }
   ],
   "source": [
    "ordenado_desc"
   ]
  },
  {
   "cell_type": "code",
   "execution_count": 55,
   "metadata": {},
   "outputs": [
    {
     "data": {
      "image/png": "[encoded data removed]",
      "text/plain": [
       "<Figure size 500x500 with 1 Axes>"
      ]
     },
     "metadata": {},
     "output_type": "display_data"
    }
   ],
   "source": [
    "plt.figure(figsize =(5,5))\n",
    "sns.barplot(y = \"programming_languages\", x = \"index\", data = ordenado_desc, palette= \"rocket_r\");\n",
    "plt.title(\"Most used programming languages\", color = \"lightcoral\", fontweight='bold', fontsize = 16);\n",
    "plt.xlabel(\"programming_language\", color = \"lightcoral\");\n",
    "plt.ylabel(\"count\", color = \"lightcoral\");"
   ]
  },
  {
   "cell_type": "markdown",
   "metadata": {},
   "source": [
    "## Conclusiones"
   ]
  },
  {
   "cell_type": "markdown",
   "metadata": {},
   "source": [
    "Como podemos observar, los datos muestran que los lenguajes de programación más utilizados por un Data Analyst son Python y SQL. \n",
    "\n",
    "- Python es un lenguaje que permite realizar un análisis sobre grandes conjuntos de datos. Además, para analizar datos se requiere de un proceso de limpieza y exploración que, gracias a las bibliotecas de Python, resulta sencillo ya que permiten trabajar con los diferentes conjuntos de datos de forma rápida y sencilla. Además, python hace que sea posible trabajar con los datos que están en archivos de diferentes formatos como por ejemplo 'JSON', ''CSV', 'PICKLE' o 'HTML'. Python incluso permite realizar visualizaciones a través de librerías como Seaborn o Matplotlib y facilitar de esta forma la interpretación de los datos. Es, como vemos, un lenguaje muy versátil.\n",
    "\n",
    "- SQL permite al analista de datos acceder a los datos almacenados en bases de datos relacionales y hacerlo de forma rápida y efectiva incluso en grandes volúmenes de datos. Además, se pueden realizar consultas personalizadas y complejas además de combinar múltiples tablas, filtrar datos o realizar cálculos. \n",
    "\n",
    "En resumen, Adalab está actualizado con los lenguajes de programación más utilizados en el día a día de un Data Analytics."
   ]
  }
 ],
 "metadata": {
  "kernelspec": {
   "display_name": "base",
   "language": "python",
   "name": "python3"
  },
  "language_info": {
   "codemirror_mode": {
    "name": "ipython",
    "version": 3
   },
   "file_extension": ".py",
   "mimetype": "text/x-python",
   "name": "python",
   "nbconvert_exporter": "python",
   "pygments_lexer": "ipython3",
   "version": "3.10.9"
  },
  "orig_nbformat": 4
 },
 "nbformat": 4,
 "nbformat_minor": 2
}
